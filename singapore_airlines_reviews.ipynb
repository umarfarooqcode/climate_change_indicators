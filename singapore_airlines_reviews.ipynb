{
 "cells": [
  {
   "cell_type": "markdown",
   "metadata": {},
   "source": []
  },
  {
   "cell_type": "code",
   "execution_count": 2,
   "metadata": {},
   "outputs": [],
   "source": [
    "import pandas as pd\n",
    "import numpy as np"
   ]
  },
  {
   "cell_type": "code",
   "execution_count": 7,
   "metadata": {},
   "outputs": [
    {
     "name": "stdout",
     "output_type": "stream",
     "text": [
      "Collecting chardet\n",
      "  Downloading chardet-5.2.0-py3-none-any.whl.metadata (3.4 kB)\n",
      "Downloading chardet-5.2.0-py3-none-any.whl (199 kB)\n",
      "   ---------------------------------------- 0.0/199.4 kB ? eta -:--:--\n",
      "   ---------------------------------------- 0.0/199.4 kB ? eta -:--:--\n",
      "   -- ------------------------------------- 10.2/199.4 kB ? eta -:--:--\n",
      "   ------ -------------------------------- 30.7/199.4 kB 330.3 kB/s eta 0:00:01\n",
      "   -------- ------------------------------ 41.0/199.4 kB 326.8 kB/s eta 0:00:01\n",
      "   --------------------- ---------------- 112.6/199.4 kB 656.4 kB/s eta 0:00:01\n",
      "   ------------------------------- ------ 163.8/199.4 kB 756.6 kB/s eta 0:00:01\n",
      "   -------------------------------------- 199.4/199.4 kB 863.7 kB/s eta 0:00:00\n",
      "Installing collected packages: chardet\n",
      "Successfully installed chardet-5.2.0\n",
      "Note: you may need to restart the kernel to use updated packages.\n"
     ]
    }
   ],
   "source": [
    "pip install chardet\n"
   ]
  },
  {
   "cell_type": "code",
   "execution_count": 16,
   "metadata": {},
   "outputs": [],
   "source": [
    "singapore_airlines_reviews_df = pd.read_csv (r'C:\\Users\\user\\Desktop\\singapore_airlines\\climate_change_indicators.csv')"
   ]
  },
  {
   "cell_type": "code",
   "execution_count": 17,
   "metadata": {},
   "outputs": [
    {
     "data": {
      "text/html": [
       "<div>\n",
       "<style scoped>\n",
       "    .dataframe tbody tr th:only-of-type {\n",
       "        vertical-align: middle;\n",
       "    }\n",
       "\n",
       "    .dataframe tbody tr th {\n",
       "        vertical-align: top;\n",
       "    }\n",
       "\n",
       "    .dataframe thead th {\n",
       "        text-align: right;\n",
       "    }\n",
       "</style>\n",
       "<table border=\"1\" class=\"dataframe\">\n",
       "  <thead>\n",
       "    <tr style=\"text-align: right;\">\n",
       "      <th></th>\n",
       "      <th>ObjectId</th>\n",
       "      <th>Country</th>\n",
       "      <th>ISO2</th>\n",
       "      <th>ISO3</th>\n",
       "      <th>Indicator</th>\n",
       "      <th>Unit</th>\n",
       "      <th>Source</th>\n",
       "      <th>CTS_Code</th>\n",
       "      <th>CTS_Name</th>\n",
       "      <th>CTS_Full_Descriptor</th>\n",
       "      <th>...</th>\n",
       "      <th>F2013</th>\n",
       "      <th>F2014</th>\n",
       "      <th>F2015</th>\n",
       "      <th>F2016</th>\n",
       "      <th>F2017</th>\n",
       "      <th>F2018</th>\n",
       "      <th>F2019</th>\n",
       "      <th>F2020</th>\n",
       "      <th>F2021</th>\n",
       "      <th>F2022</th>\n",
       "    </tr>\n",
       "  </thead>\n",
       "  <tbody>\n",
       "    <tr>\n",
       "      <th>0</th>\n",
       "      <td>1</td>\n",
       "      <td>Afghanistan, Islamic Rep. of</td>\n",
       "      <td>AF</td>\n",
       "      <td>AFG</td>\n",
       "      <td>Temperature change with respect to a baseline ...</td>\n",
       "      <td>Degree Celsius</td>\n",
       "      <td>Food and Agriculture Organization of the Unite...</td>\n",
       "      <td>ECCS</td>\n",
       "      <td>Surface Temperature Change</td>\n",
       "      <td>Environment, Climate Change, Climate Indicator...</td>\n",
       "      <td>...</td>\n",
       "      <td>1.281</td>\n",
       "      <td>0.456</td>\n",
       "      <td>1.093</td>\n",
       "      <td>1.555</td>\n",
       "      <td>1.540</td>\n",
       "      <td>1.544</td>\n",
       "      <td>0.910</td>\n",
       "      <td>0.498</td>\n",
       "      <td>1.327</td>\n",
       "      <td>2.012</td>\n",
       "    </tr>\n",
       "    <tr>\n",
       "      <th>1</th>\n",
       "      <td>2</td>\n",
       "      <td>Albania</td>\n",
       "      <td>AL</td>\n",
       "      <td>ALB</td>\n",
       "      <td>Temperature change with respect to a baseline ...</td>\n",
       "      <td>Degree Celsius</td>\n",
       "      <td>Food and Agriculture Organization of the Unite...</td>\n",
       "      <td>ECCS</td>\n",
       "      <td>Surface Temperature Change</td>\n",
       "      <td>Environment, Climate Change, Climate Indicator...</td>\n",
       "      <td>...</td>\n",
       "      <td>1.333</td>\n",
       "      <td>1.198</td>\n",
       "      <td>1.569</td>\n",
       "      <td>1.464</td>\n",
       "      <td>1.121</td>\n",
       "      <td>2.028</td>\n",
       "      <td>1.675</td>\n",
       "      <td>1.498</td>\n",
       "      <td>1.536</td>\n",
       "      <td>1.518</td>\n",
       "    </tr>\n",
       "    <tr>\n",
       "      <th>2</th>\n",
       "      <td>3</td>\n",
       "      <td>Algeria</td>\n",
       "      <td>DZ</td>\n",
       "      <td>DZA</td>\n",
       "      <td>Temperature change with respect to a baseline ...</td>\n",
       "      <td>Degree Celsius</td>\n",
       "      <td>Food and Agriculture Organization of the Unite...</td>\n",
       "      <td>ECCS</td>\n",
       "      <td>Surface Temperature Change</td>\n",
       "      <td>Environment, Climate Change, Climate Indicator...</td>\n",
       "      <td>...</td>\n",
       "      <td>1.192</td>\n",
       "      <td>1.690</td>\n",
       "      <td>1.121</td>\n",
       "      <td>1.757</td>\n",
       "      <td>1.512</td>\n",
       "      <td>1.210</td>\n",
       "      <td>1.115</td>\n",
       "      <td>1.926</td>\n",
       "      <td>2.330</td>\n",
       "      <td>1.688</td>\n",
       "    </tr>\n",
       "    <tr>\n",
       "      <th>3</th>\n",
       "      <td>4</td>\n",
       "      <td>American Samoa</td>\n",
       "      <td>AS</td>\n",
       "      <td>ASM</td>\n",
       "      <td>Temperature change with respect to a baseline ...</td>\n",
       "      <td>Degree Celsius</td>\n",
       "      <td>Food and Agriculture Organization of the Unite...</td>\n",
       "      <td>ECCS</td>\n",
       "      <td>Surface Temperature Change</td>\n",
       "      <td>Environment, Climate Change, Climate Indicator...</td>\n",
       "      <td>...</td>\n",
       "      <td>1.257</td>\n",
       "      <td>1.170</td>\n",
       "      <td>1.009</td>\n",
       "      <td>1.539</td>\n",
       "      <td>1.435</td>\n",
       "      <td>1.189</td>\n",
       "      <td>1.539</td>\n",
       "      <td>1.430</td>\n",
       "      <td>1.268</td>\n",
       "      <td>1.256</td>\n",
       "    </tr>\n",
       "    <tr>\n",
       "      <th>4</th>\n",
       "      <td>5</td>\n",
       "      <td>Andorra, Principality of</td>\n",
       "      <td>AD</td>\n",
       "      <td>AND</td>\n",
       "      <td>Temperature change with respect to a baseline ...</td>\n",
       "      <td>Degree Celsius</td>\n",
       "      <td>Food and Agriculture Organization of the Unite...</td>\n",
       "      <td>ECCS</td>\n",
       "      <td>Surface Temperature Change</td>\n",
       "      <td>Environment, Climate Change, Climate Indicator...</td>\n",
       "      <td>...</td>\n",
       "      <td>0.831</td>\n",
       "      <td>1.946</td>\n",
       "      <td>1.690</td>\n",
       "      <td>1.990</td>\n",
       "      <td>1.925</td>\n",
       "      <td>1.919</td>\n",
       "      <td>1.964</td>\n",
       "      <td>2.562</td>\n",
       "      <td>1.533</td>\n",
       "      <td>3.243</td>\n",
       "    </tr>\n",
       "  </tbody>\n",
       "</table>\n",
       "<p>5 rows × 72 columns</p>\n",
       "</div>"
      ],
      "text/plain": [
       "   ObjectId                       Country ISO2 ISO3  \\\n",
       "0         1  Afghanistan, Islamic Rep. of   AF  AFG   \n",
       "1         2                       Albania   AL  ALB   \n",
       "2         3                       Algeria   DZ  DZA   \n",
       "3         4                American Samoa   AS  ASM   \n",
       "4         5      Andorra, Principality of   AD  AND   \n",
       "\n",
       "                                           Indicator            Unit  \\\n",
       "0  Temperature change with respect to a baseline ...  Degree Celsius   \n",
       "1  Temperature change with respect to a baseline ...  Degree Celsius   \n",
       "2  Temperature change with respect to a baseline ...  Degree Celsius   \n",
       "3  Temperature change with respect to a baseline ...  Degree Celsius   \n",
       "4  Temperature change with respect to a baseline ...  Degree Celsius   \n",
       "\n",
       "                                              Source CTS_Code  \\\n",
       "0  Food and Agriculture Organization of the Unite...     ECCS   \n",
       "1  Food and Agriculture Organization of the Unite...     ECCS   \n",
       "2  Food and Agriculture Organization of the Unite...     ECCS   \n",
       "3  Food and Agriculture Organization of the Unite...     ECCS   \n",
       "4  Food and Agriculture Organization of the Unite...     ECCS   \n",
       "\n",
       "                     CTS_Name  \\\n",
       "0  Surface Temperature Change   \n",
       "1  Surface Temperature Change   \n",
       "2  Surface Temperature Change   \n",
       "3  Surface Temperature Change   \n",
       "4  Surface Temperature Change   \n",
       "\n",
       "                                 CTS_Full_Descriptor  ...  F2013  F2014  \\\n",
       "0  Environment, Climate Change, Climate Indicator...  ...  1.281  0.456   \n",
       "1  Environment, Climate Change, Climate Indicator...  ...  1.333  1.198   \n",
       "2  Environment, Climate Change, Climate Indicator...  ...  1.192  1.690   \n",
       "3  Environment, Climate Change, Climate Indicator...  ...  1.257  1.170   \n",
       "4  Environment, Climate Change, Climate Indicator...  ...  0.831  1.946   \n",
       "\n",
       "   F2015  F2016  F2017  F2018  F2019  F2020  F2021  F2022  \n",
       "0  1.093  1.555  1.540  1.544  0.910  0.498  1.327  2.012  \n",
       "1  1.569  1.464  1.121  2.028  1.675  1.498  1.536  1.518  \n",
       "2  1.121  1.757  1.512  1.210  1.115  1.926  2.330  1.688  \n",
       "3  1.009  1.539  1.435  1.189  1.539  1.430  1.268  1.256  \n",
       "4  1.690  1.990  1.925  1.919  1.964  2.562  1.533  3.243  \n",
       "\n",
       "[5 rows x 72 columns]"
      ]
     },
     "execution_count": 17,
     "metadata": {},
     "output_type": "execute_result"
    }
   ],
   "source": [
    "singapore_airlines_reviews_df.head()\n"
   ]
  },
  {
   "cell_type": "code",
   "execution_count": 18,
   "metadata": {},
   "outputs": [
    {
     "name": "stdout",
     "output_type": "stream",
     "text": [
      "<class 'pandas.core.frame.DataFrame'>\n",
      "RangeIndex: 225 entries, 0 to 224\n",
      "Data columns (total 72 columns):\n",
      " #   Column               Non-Null Count  Dtype  \n",
      "---  ------               --------------  -----  \n",
      " 0   ObjectId             225 non-null    int64  \n",
      " 1   Country              225 non-null    object \n",
      " 2   ISO2                 223 non-null    object \n",
      " 3   ISO3                 225 non-null    object \n",
      " 4   Indicator            225 non-null    object \n",
      " 5   Unit                 225 non-null    object \n",
      " 6   Source               225 non-null    object \n",
      " 7   CTS_Code             225 non-null    object \n",
      " 8   CTS_Name             225 non-null    object \n",
      " 9   CTS_Full_Descriptor  225 non-null    object \n",
      " 10  F1961                188 non-null    float64\n",
      " 11  F1962                189 non-null    float64\n",
      " 12  F1963                188 non-null    float64\n",
      " 13  F1964                188 non-null    float64\n",
      " 14  F1965                188 non-null    float64\n",
      " 15  F1966                192 non-null    float64\n",
      " 16  F1967                191 non-null    float64\n",
      " 17  F1968                191 non-null    float64\n",
      " 18  F1969                190 non-null    float64\n",
      " 19  F1970                189 non-null    float64\n",
      " 20  F1971                191 non-null    float64\n",
      " 21  F1972                192 non-null    float64\n",
      " 22  F1973                193 non-null    float64\n",
      " 23  F1974                192 non-null    float64\n",
      " 24  F1975                188 non-null    float64\n",
      " 25  F1976                189 non-null    float64\n",
      " 26  F1977                185 non-null    float64\n",
      " 27  F1978                189 non-null    float64\n",
      " 28  F1979                189 non-null    float64\n",
      " 29  F1980                191 non-null    float64\n",
      " 30  F1981                191 non-null    float64\n",
      " 31  F1982                192 non-null    float64\n",
      " 32  F1983                190 non-null    float64\n",
      " 33  F1984                188 non-null    float64\n",
      " 34  F1985                188 non-null    float64\n",
      " 35  F1986                190 non-null    float64\n",
      " 36  F1987                190 non-null    float64\n",
      " 37  F1988                190 non-null    float64\n",
      " 38  F1989                190 non-null    float64\n",
      " 39  F1990                189 non-null    float64\n",
      " 40  F1991                188 non-null    float64\n",
      " 41  F1992                208 non-null    float64\n",
      " 42  F1993                209 non-null    float64\n",
      " 43  F1994                208 non-null    float64\n",
      " 44  F1995                210 non-null    float64\n",
      " 45  F1996                210 non-null    float64\n",
      " 46  F1997                207 non-null    float64\n",
      " 47  F1998                210 non-null    float64\n",
      " 48  F1999                209 non-null    float64\n",
      " 49  F2000                209 non-null    float64\n",
      " 50  F2001                208 non-null    float64\n",
      " 51  F2002                212 non-null    float64\n",
      " 52  F2003                214 non-null    float64\n",
      " 53  F2004                213 non-null    float64\n",
      " 54  F2005                212 non-null    float64\n",
      " 55  F2006                215 non-null    float64\n",
      " 56  F2007                217 non-null    float64\n",
      " 57  F2008                212 non-null    float64\n",
      " 58  F2009                212 non-null    float64\n",
      " 59  F2010                215 non-null    float64\n",
      " 60  F2011                217 non-null    float64\n",
      " 61  F2012                215 non-null    float64\n",
      " 62  F2013                216 non-null    float64\n",
      " 63  F2014                216 non-null    float64\n",
      " 64  F2015                216 non-null    float64\n",
      " 65  F2016                213 non-null    float64\n",
      " 66  F2017                214 non-null    float64\n",
      " 67  F2018                213 non-null    float64\n",
      " 68  F2019                213 non-null    float64\n",
      " 69  F2020                212 non-null    float64\n",
      " 70  F2021                213 non-null    float64\n",
      " 71  F2022                213 non-null    float64\n",
      "dtypes: float64(62), int64(1), object(9)\n",
      "memory usage: 126.7+ KB\n"
     ]
    }
   ],
   "source": [
    "\n",
    "singapore_airlines_reviews_df.info()\n"
   ]
  },
  {
   "cell_type": "code",
   "execution_count": 19,
   "metadata": {},
   "outputs": [
    {
     "data": {
      "text/plain": [
       "pandas.core.frame.DataFrame"
      ]
     },
     "execution_count": 19,
     "metadata": {},
     "output_type": "execute_result"
    }
   ],
   "source": [
    "type(singapore_airlines_reviews_df)"
   ]
  },
  {
   "cell_type": "code",
   "execution_count": 20,
   "metadata": {},
   "outputs": [
    {
     "data": {
      "text/html": [
       "<div>\n",
       "<style scoped>\n",
       "    .dataframe tbody tr th:only-of-type {\n",
       "        vertical-align: middle;\n",
       "    }\n",
       "\n",
       "    .dataframe tbody tr th {\n",
       "        vertical-align: top;\n",
       "    }\n",
       "\n",
       "    .dataframe thead th {\n",
       "        text-align: right;\n",
       "    }\n",
       "</style>\n",
       "<table border=\"1\" class=\"dataframe\">\n",
       "  <thead>\n",
       "    <tr style=\"text-align: right;\">\n",
       "      <th></th>\n",
       "      <th>ObjectId</th>\n",
       "      <th>F1961</th>\n",
       "      <th>F1962</th>\n",
       "      <th>F1963</th>\n",
       "      <th>F1964</th>\n",
       "      <th>F1965</th>\n",
       "      <th>F1966</th>\n",
       "      <th>F1967</th>\n",
       "      <th>F1968</th>\n",
       "      <th>F1969</th>\n",
       "      <th>...</th>\n",
       "      <th>F2013</th>\n",
       "      <th>F2014</th>\n",
       "      <th>F2015</th>\n",
       "      <th>F2016</th>\n",
       "      <th>F2017</th>\n",
       "      <th>F2018</th>\n",
       "      <th>F2019</th>\n",
       "      <th>F2020</th>\n",
       "      <th>F2021</th>\n",
       "      <th>F2022</th>\n",
       "    </tr>\n",
       "  </thead>\n",
       "  <tbody>\n",
       "    <tr>\n",
       "      <th>count</th>\n",
       "      <td>225.000000</td>\n",
       "      <td>188.000000</td>\n",
       "      <td>189.000000</td>\n",
       "      <td>188.000000</td>\n",
       "      <td>188.000000</td>\n",
       "      <td>188.000000</td>\n",
       "      <td>192.000000</td>\n",
       "      <td>191.000000</td>\n",
       "      <td>191.000000</td>\n",
       "      <td>190.000000</td>\n",
       "      <td>...</td>\n",
       "      <td>216.000000</td>\n",
       "      <td>216.000000</td>\n",
       "      <td>216.000000</td>\n",
       "      <td>213.000000</td>\n",
       "      <td>214.000000</td>\n",
       "      <td>213.000000</td>\n",
       "      <td>213.000000</td>\n",
       "      <td>212.000000</td>\n",
       "      <td>213.000000</td>\n",
       "      <td>213.000000</td>\n",
       "    </tr>\n",
       "    <tr>\n",
       "      <th>mean</th>\n",
       "      <td>113.000000</td>\n",
       "      <td>0.163053</td>\n",
       "      <td>-0.013476</td>\n",
       "      <td>-0.006043</td>\n",
       "      <td>-0.070059</td>\n",
       "      <td>-0.247027</td>\n",
       "      <td>0.105505</td>\n",
       "      <td>-0.110832</td>\n",
       "      <td>-0.199110</td>\n",
       "      <td>0.157942</td>\n",
       "      <td>...</td>\n",
       "      <td>0.931199</td>\n",
       "      <td>1.114815</td>\n",
       "      <td>1.269773</td>\n",
       "      <td>1.439521</td>\n",
       "      <td>1.280785</td>\n",
       "      <td>1.302113</td>\n",
       "      <td>1.443061</td>\n",
       "      <td>1.552038</td>\n",
       "      <td>1.343531</td>\n",
       "      <td>1.382113</td>\n",
       "    </tr>\n",
       "    <tr>\n",
       "      <th>std</th>\n",
       "      <td>65.096083</td>\n",
       "      <td>0.405080</td>\n",
       "      <td>0.341812</td>\n",
       "      <td>0.387348</td>\n",
       "      <td>0.309305</td>\n",
       "      <td>0.270734</td>\n",
       "      <td>0.378423</td>\n",
       "      <td>0.339484</td>\n",
       "      <td>0.270131</td>\n",
       "      <td>0.308540</td>\n",
       "      <td>...</td>\n",
       "      <td>0.321595</td>\n",
       "      <td>0.564903</td>\n",
       "      <td>0.462162</td>\n",
       "      <td>0.401091</td>\n",
       "      <td>0.393999</td>\n",
       "      <td>0.596786</td>\n",
       "      <td>0.467510</td>\n",
       "      <td>0.621930</td>\n",
       "      <td>0.484692</td>\n",
       "      <td>0.669279</td>\n",
       "    </tr>\n",
       "    <tr>\n",
       "      <th>min</th>\n",
       "      <td>1.000000</td>\n",
       "      <td>-0.694000</td>\n",
       "      <td>-0.908000</td>\n",
       "      <td>-1.270000</td>\n",
       "      <td>-0.877000</td>\n",
       "      <td>-1.064000</td>\n",
       "      <td>-1.801000</td>\n",
       "      <td>-1.048000</td>\n",
       "      <td>-1.634000</td>\n",
       "      <td>-0.900000</td>\n",
       "      <td>...</td>\n",
       "      <td>0.118000</td>\n",
       "      <td>-0.092000</td>\n",
       "      <td>-0.430000</td>\n",
       "      <td>0.250000</td>\n",
       "      <td>0.017000</td>\n",
       "      <td>0.238000</td>\n",
       "      <td>0.050000</td>\n",
       "      <td>0.229000</td>\n",
       "      <td>-0.425000</td>\n",
       "      <td>-1.305000</td>\n",
       "    </tr>\n",
       "    <tr>\n",
       "      <th>25%</th>\n",
       "      <td>57.000000</td>\n",
       "      <td>-0.097000</td>\n",
       "      <td>-0.164000</td>\n",
       "      <td>-0.205500</td>\n",
       "      <td>-0.236500</td>\n",
       "      <td>-0.392500</td>\n",
       "      <td>-0.035750</td>\n",
       "      <td>-0.259500</td>\n",
       "      <td>-0.340000</td>\n",
       "      <td>-0.009000</td>\n",
       "      <td>...</td>\n",
       "      <td>0.743500</td>\n",
       "      <td>0.744000</td>\n",
       "      <td>1.017750</td>\n",
       "      <td>1.147000</td>\n",
       "      <td>1.027500</td>\n",
       "      <td>0.865000</td>\n",
       "      <td>1.169000</td>\n",
       "      <td>1.161750</td>\n",
       "      <td>1.019000</td>\n",
       "      <td>0.878000</td>\n",
       "    </tr>\n",
       "    <tr>\n",
       "      <th>50%</th>\n",
       "      <td>113.000000</td>\n",
       "      <td>0.064500</td>\n",
       "      <td>-0.056000</td>\n",
       "      <td>-0.003000</td>\n",
       "      <td>-0.056000</td>\n",
       "      <td>-0.230500</td>\n",
       "      <td>0.098000</td>\n",
       "      <td>-0.146000</td>\n",
       "      <td>-0.187000</td>\n",
       "      <td>0.204000</td>\n",
       "      <td>...</td>\n",
       "      <td>0.897000</td>\n",
       "      <td>0.986500</td>\n",
       "      <td>1.215000</td>\n",
       "      <td>1.446000</td>\n",
       "      <td>1.282000</td>\n",
       "      <td>1.125000</td>\n",
       "      <td>1.412000</td>\n",
       "      <td>1.477000</td>\n",
       "      <td>1.327000</td>\n",
       "      <td>1.315000</td>\n",
       "    </tr>\n",
       "    <tr>\n",
       "      <th>75%</th>\n",
       "      <td>169.000000</td>\n",
       "      <td>0.318500</td>\n",
       "      <td>0.114000</td>\n",
       "      <td>0.230500</td>\n",
       "      <td>0.132500</td>\n",
       "      <td>-0.091500</td>\n",
       "      <td>0.277000</td>\n",
       "      <td>0.015000</td>\n",
       "      <td>-0.067000</td>\n",
       "      <td>0.349000</td>\n",
       "      <td>...</td>\n",
       "      <td>1.187500</td>\n",
       "      <td>1.335500</td>\n",
       "      <td>1.520500</td>\n",
       "      <td>1.714000</td>\n",
       "      <td>1.535000</td>\n",
       "      <td>1.834000</td>\n",
       "      <td>1.698000</td>\n",
       "      <td>1.826250</td>\n",
       "      <td>1.629000</td>\n",
       "      <td>1.918000</td>\n",
       "    </tr>\n",
       "    <tr>\n",
       "      <th>max</th>\n",
       "      <td>225.000000</td>\n",
       "      <td>1.892000</td>\n",
       "      <td>0.998000</td>\n",
       "      <td>1.202000</td>\n",
       "      <td>1.097000</td>\n",
       "      <td>0.857000</td>\n",
       "      <td>1.151000</td>\n",
       "      <td>1.134000</td>\n",
       "      <td>0.476000</td>\n",
       "      <td>0.939000</td>\n",
       "      <td>...</td>\n",
       "      <td>1.643000</td>\n",
       "      <td>2.704000</td>\n",
       "      <td>2.613000</td>\n",
       "      <td>2.459000</td>\n",
       "      <td>2.493000</td>\n",
       "      <td>2.772000</td>\n",
       "      <td>2.689000</td>\n",
       "      <td>3.691000</td>\n",
       "      <td>2.676000</td>\n",
       "      <td>3.243000</td>\n",
       "    </tr>\n",
       "  </tbody>\n",
       "</table>\n",
       "<p>8 rows × 63 columns</p>\n",
       "</div>"
      ],
      "text/plain": [
       "         ObjectId       F1961       F1962       F1963       F1964       F1965  \\\n",
       "count  225.000000  188.000000  189.000000  188.000000  188.000000  188.000000   \n",
       "mean   113.000000    0.163053   -0.013476   -0.006043   -0.070059   -0.247027   \n",
       "std     65.096083    0.405080    0.341812    0.387348    0.309305    0.270734   \n",
       "min      1.000000   -0.694000   -0.908000   -1.270000   -0.877000   -1.064000   \n",
       "25%     57.000000   -0.097000   -0.164000   -0.205500   -0.236500   -0.392500   \n",
       "50%    113.000000    0.064500   -0.056000   -0.003000   -0.056000   -0.230500   \n",
       "75%    169.000000    0.318500    0.114000    0.230500    0.132500   -0.091500   \n",
       "max    225.000000    1.892000    0.998000    1.202000    1.097000    0.857000   \n",
       "\n",
       "            F1966       F1967       F1968       F1969  ...       F2013  \\\n",
       "count  192.000000  191.000000  191.000000  190.000000  ...  216.000000   \n",
       "mean     0.105505   -0.110832   -0.199110    0.157942  ...    0.931199   \n",
       "std      0.378423    0.339484    0.270131    0.308540  ...    0.321595   \n",
       "min     -1.801000   -1.048000   -1.634000   -0.900000  ...    0.118000   \n",
       "25%     -0.035750   -0.259500   -0.340000   -0.009000  ...    0.743500   \n",
       "50%      0.098000   -0.146000   -0.187000    0.204000  ...    0.897000   \n",
       "75%      0.277000    0.015000   -0.067000    0.349000  ...    1.187500   \n",
       "max      1.151000    1.134000    0.476000    0.939000  ...    1.643000   \n",
       "\n",
       "            F2014       F2015       F2016       F2017       F2018       F2019  \\\n",
       "count  216.000000  216.000000  213.000000  214.000000  213.000000  213.000000   \n",
       "mean     1.114815    1.269773    1.439521    1.280785    1.302113    1.443061   \n",
       "std      0.564903    0.462162    0.401091    0.393999    0.596786    0.467510   \n",
       "min     -0.092000   -0.430000    0.250000    0.017000    0.238000    0.050000   \n",
       "25%      0.744000    1.017750    1.147000    1.027500    0.865000    1.169000   \n",
       "50%      0.986500    1.215000    1.446000    1.282000    1.125000    1.412000   \n",
       "75%      1.335500    1.520500    1.714000    1.535000    1.834000    1.698000   \n",
       "max      2.704000    2.613000    2.459000    2.493000    2.772000    2.689000   \n",
       "\n",
       "            F2020       F2021       F2022  \n",
       "count  212.000000  213.000000  213.000000  \n",
       "mean     1.552038    1.343531    1.382113  \n",
       "std      0.621930    0.484692    0.669279  \n",
       "min      0.229000   -0.425000   -1.305000  \n",
       "25%      1.161750    1.019000    0.878000  \n",
       "50%      1.477000    1.327000    1.315000  \n",
       "75%      1.826250    1.629000    1.918000  \n",
       "max      3.691000    2.676000    3.243000  \n",
       "\n",
       "[8 rows x 63 columns]"
      ]
     },
     "execution_count": 20,
     "metadata": {},
     "output_type": "execute_result"
    }
   ],
   "source": [
    "singapore_airlines_reviews_df.describe()"
   ]
  },
  {
   "cell_type": "code",
   "execution_count": 22,
   "metadata": {},
   "outputs": [
    {
     "data": {
      "text/plain": [
       "ObjectId      0\n",
       "Country       0\n",
       "ISO2          2\n",
       "ISO3          0\n",
       "Indicator     0\n",
       "             ..\n",
       "F2018        12\n",
       "F2019        12\n",
       "F2020        13\n",
       "F2021        12\n",
       "F2022        12\n",
       "Length: 72, dtype: int64"
      ]
     },
     "execution_count": 22,
     "metadata": {},
     "output_type": "execute_result"
    }
   ],
   "source": [
    "singapore_airlines_reviews_df.isnull().sum()"
   ]
  },
  {
   "cell_type": "code",
   "execution_count": 24,
   "metadata": {},
   "outputs": [
    {
     "name": "stderr",
     "output_type": "stream",
     "text": [
      "C:\\Users\\user\\AppData\\Local\\Temp\\ipykernel_23648\\3769522557.py:2: FutureWarning: DataFrame.fillna with 'method' is deprecated and will raise in a future version. Use obj.ffill() or obj.bfill() instead.\n",
      "  df_ffill = singapore_airlines_reviews_df.fillna(method='ffill')\n",
      "C:\\Users\\user\\AppData\\Local\\Temp\\ipykernel_23648\\3769522557.py:5: FutureWarning: DataFrame.fillna with 'method' is deprecated and will raise in a future version. Use obj.ffill() or obj.bfill() instead.\n",
      "  df_bfill = singapore_airlines_reviews_df.fillna(method='bfill')\n"
     ]
    }
   ],
   "source": [
    "# Forward-fill\n",
    "df_ffill = singapore_airlines_reviews_df.fillna(method='ffill')\n",
    "\n",
    "# Back-fill\n",
    "df_bfill = singapore_airlines_reviews_df.fillna(method='bfill')\n"
   ]
  },
  {
   "cell_type": "code",
   "execution_count": 27,
   "metadata": {},
   "outputs": [
    {
     "data": {
      "text/plain": [
       "ObjectId     0\n",
       "Country      0\n",
       "ISO2         0\n",
       "ISO3         0\n",
       "Indicator    0\n",
       "            ..\n",
       "F2018        0\n",
       "F2019        0\n",
       "F2020        0\n",
       "F2021        0\n",
       "F2022        0\n",
       "Length: 72, dtype: int64"
      ]
     },
     "execution_count": 27,
     "metadata": {},
     "output_type": "execute_result"
    }
   ],
   "source": [
    "df_ffill.isnull().sum()"
   ]
  },
  {
   "cell_type": "code",
   "execution_count": 28,
   "metadata": {},
   "outputs": [
    {
     "data": {
      "text/plain": [
       "ObjectId     0\n",
       "Country      0\n",
       "ISO2         0\n",
       "ISO3         0\n",
       "Indicator    0\n",
       "            ..\n",
       "F2018        0\n",
       "F2019        0\n",
       "F2020        0\n",
       "F2021        0\n",
       "F2022        0\n",
       "Length: 72, dtype: int64"
      ]
     },
     "execution_count": 28,
     "metadata": {},
     "output_type": "execute_result"
    }
   ],
   "source": [
    "df_bfill.isnull().sum()"
   ]
  },
  {
   "cell_type": "markdown",
   "metadata": {},
   "source": [
    "How has the average global temperature changed over the last six decades? tell the code as well as how to write this"
   ]
  },
  {
   "cell_type": "code",
   "execution_count": 64,
   "metadata": {},
   "outputs": [
    {
     "data": {
      "image/png": "[encoded data removed]",
      "text/plain": [
       "<Figure size 1000x500 with 1 Axes>"
      ]
     },
     "metadata": {},
     "output_type": "display_data"
    }
   ],
   "source": [
    "import pandas as pd\n",
    "import matplotlib.pyplot as plt\n",
    "\n",
    "# Extract year columns and their values\n",
    "year_columns = singapore_airlines_reviews_df.columns[singapore_airlines_reviews_df.columns.str.startswith('F')]\n",
    "year_values = singapore_airlines_reviews_df[year_columns].values\n",
    "# Calculate the start year of each decade\n",
    "decade_starts = [str(year)[:3] + '0' for year in range(1960, 2030, 10)]\n",
    "\n",
    "# Calculate the average temperature change for each decade\n",
    "decadal_avgs = []\n",
    "for start in decade_starts:\n",
    "    # Find columns that fall within the current decade\n",
    "    decade_cols = [col for col in year_columns if col.startswith('F' + start)]\n",
    "    # Calculate the mean for these years and append to the list\n",
    "    decadal_avgs.append(singapore_airlines_reviews_df[decade_cols].mean().mean())\n",
    "\n",
    "# Plotting\n",
    "plt.figure(figsize=(10, 5))\n",
    "plt.plot(decade_starts, decadal_avgs, marker='o', linestyle='-', color='blue')\n",
    "plt.title('Average Global Temperature Change by Decade (1960-2020)')\n",
    "plt.xlabel('Decade')\n",
    "plt.ylabel('Average Temperature Change (°C)')\n",
    "plt.grid(True)\n",
    "plt.show()\n"
   ]
  },
  {
   "cell_type": "markdown",
   "metadata": {},
   "source": [
    "Which countries have experienced the most significant temperature changes in the last decade? "
   ]
  },
  {
   "cell_type": "code",
   "execution_count": 32,
   "metadata": {},
   "outputs": [],
   "source": [
    "# Select the columns for the last decade\n",
    "columns_last_decade = ['F2013', 'F2014', 'F2015', 'F2016', 'F2017', 'F2018', 'F2019', 'F2020', 'F2021', 'F2022']\n",
    "\n",
    "# Calculate the mean temperature change for each country over the last decade\n",
    "singapore_airlines_reviews_df['Avg_Temp_Change_Last_Decade'] = singapore_airlines_reviews_df[columns_last_decade].mean(axis=1)\n"
   ]
  },
  {
   "cell_type": "code",
   "execution_count": 33,
   "metadata": {},
   "outputs": [],
   "source": [
    "# Sort the countries by their average temperature change over the last decade in descending order\n",
    "most_affected_countries = singapore_airlines_reviews_df.sort_values(by='Avg_Temp_Change_Last_Decade', ascending=False)\n",
    "\n",
    "# Select the top 10 countries with the most significant temperature changes\n",
    "top_countries = most_affected_countries.head(10)\n"
   ]
  },
  {
   "cell_type": "code",
   "execution_count": 34,
   "metadata": {},
   "outputs": [
    {
     "name": "stdout",
     "output_type": "stream",
     "text": [
      "Countries with the Most Significant Temperature Changes in the Last Decade:\n",
      "                 Country  Avg_Temp_Change_Last_Decade\n",
      "62      Estonia, Rep. of                       2.1829\n",
      "18      Belarus, Rep. of                       2.1623\n",
      "165   Russian Federation                       2.1567\n",
      "109               Latvia                       2.1339\n",
      "68               Finland                       2.1192\n",
      "115            Lithuania                       2.1052\n",
      "12               Austria                       2.0613\n",
      "179    Slovenia, Rep. of                       2.0496\n",
      "52            Czech Rep.                       2.0490\n",
      "15   Bahrain, Kingdom of                       1.9878\n"
     ]
    }
   ],
   "source": [
    "print(\"Countries with the Most Significant Temperature Changes in the Last Decade:\")\n",
    "print(top_countries[['Country', 'Avg_Temp_Change_Last_Decade']])\n"
   ]
  },
  {
   "cell_type": "code",
   "execution_count": 36,
   "metadata": {},
   "outputs": [
    {
     "name": "stdout",
     "output_type": "stream",
     "text": [
      "Countries with the Most Significant Temperature Changes in the Last Decade:\n",
      "                 Country  Avg_Temp_Change_Last_Decade\n",
      "62      Estonia, Rep. of                       2.1829\n",
      "18      Belarus, Rep. of                       2.1623\n",
      "165   Russian Federation                       2.1567\n",
      "109               Latvia                       2.1339\n",
      "68               Finland                       2.1192\n",
      "115            Lithuania                       2.1052\n",
      "12               Austria                       2.0613\n",
      "179    Slovenia, Rep. of                       2.0496\n",
      "52            Czech Rep.                       2.0490\n",
      "15   Bahrain, Kingdom of                       1.9878\n"
     ]
    }
   ],
   "source": [
    "\n",
    "\n",
    "# Calculate the mean temperature change for each country over the last decade\n",
    "columns_last_decade = ['F2013', 'F2014', 'F2015', 'F2016', 'F2017', 'F2018', 'F2019', 'F2020', 'F2021', 'F2022']\n",
    "singapore_airlines_reviews_df['Avg_Temp_Change_Last_Decade'] = singapore_airlines_reviews_df[columns_last_decade].mean(axis=1)\n",
    "\n",
    "# Identify the top 10 countries with the most significant temperature changes\n",
    "most_affected_countries = singapore_airlines_reviews_df.sort_values(by='Avg_Temp_Change_Last_Decade', ascending=False)\n",
    "top_countries = most_affected_countries.head(10)\n",
    "\n",
    "# Display the results\n",
    "print(\"Countries with the Most Significant Temperature Changes in the Last Decade:\")\n",
    "print(top_countries[['Country', 'Avg_Temp_Change_Last_Decade']])\n"
   ]
  },
  {
   "cell_type": "code",
   "execution_count": 37,
   "metadata": {},
   "outputs": [
    {
     "data": {
      "image/png": "[encoded data removed]",
      "text/plain": [
       "<Figure size 1000x600 with 1 Axes>"
      ]
     },
     "metadata": {},
     "output_type": "display_data"
    }
   ],
   "source": [
    "plt.figure(figsize=(10, 6))\n",
    "plt.barh(top_countries['Country'], top_countries['Avg_Temp_Change_Last_Decade'], color='skyblue')\n",
    "plt.xlabel('Average Temperature Change (°C)')\n",
    "plt.ylabel('Country')\n",
    "plt.title('Top 10 Countries with the Most Significant Temperature Changes (2013-2022)')\n",
    "plt.gca().invert_yaxis()  # Invert y-axis to have the country with the highest change at the top\n",
    "plt.show()"
   ]
  },
  {
   "cell_type": "markdown",
   "metadata": {},
   "source": [
    "Is there a noticeable difference in temperature change trends between developed and developing countries"
   ]
  },
  {
   "cell_type": "code",
   "execution_count": 43,
   "metadata": {},
   "outputs": [
    {
     "data": {
      "image/png": "[encoded data removed]",
      "text/plain": [
       "<Figure size 1000x600 with 1 Axes>"
      ]
     },
     "metadata": {},
     "output_type": "display_data"
    }
   ],
   "source": [
    "\n",
    "\n",
    "\n",
    "country_data = singapore_airlines_reviews_df[singapore_airlines_reviews_df['Country'] == 'United States']\n",
    "\n",
    "# Selecting the years and the average temperature change for plotting\n",
    "years = range(1961, 2023)  # Adjust end year as necessary\n",
    "temp_changes = country_data.loc[:, 'F1961':'F2022'].values.flatten()\n",
    "\n",
    "# Plotting\n",
    "plt.figure(figsize=(10, 6))\n",
    "plt.plot(years, temp_changes, marker='o', linestyle='-', color='blue')\n",
    "plt.title('Temperature Change Over the Years in United States')\n",
    "plt.xlabel('Year')\n",
    "plt.ylabel('Temperature Change (°C)')\n",
    "plt.grid(True)\n",
    "plt.show()\n"
   ]
  },
  {
   "cell_type": "code",
   "execution_count": 42,
   "metadata": {},
   "outputs": [
    {
     "name": "stdout",
     "output_type": "stream",
     "text": [
      "Index(['ObjectId', 'Country', 'ISO2', 'ISO3', 'Indicator', 'Unit', 'Source',\n",
      "       'CTS_Code', 'CTS_Name', 'CTS_Full_Descriptor', 'F1961', 'F1962',\n",
      "       'F1963', 'F1964', 'F1965', 'F1966', 'F1967', 'F1968', 'F1969', 'F1970',\n",
      "       'F1971', 'F1972', 'F1973', 'F1974', 'F1975', 'F1976', 'F1977', 'F1978',\n",
      "       'F1979', 'F1980', 'F1981', 'F1982', 'F1983', 'F1984', 'F1985', 'F1986',\n",
      "       'F1987', 'F1988', 'F1989', 'F1990', 'F1991', 'F1992', 'F1993', 'F1994',\n",
      "       'F1995', 'F1996', 'F1997', 'F1998', 'F1999', 'F2000', 'F2001', 'F2002',\n",
      "       'F2003', 'F2004', 'F2005', 'F2006', 'F2007', 'F2008', 'F2009', 'F2010',\n",
      "       'F2011', 'F2012', 'F2013', 'F2014', 'F2015', 'F2016', 'F2017', 'F2018',\n",
      "       'F2019', 'F2020', 'F2021', 'F2022', 'Avg_Temp_Change_Last_Decade'],\n",
      "      dtype='object')\n"
     ]
    }
   ],
   "source": [
    "print(singapore_airlines_reviews_df.columns)\n"
   ]
  },
  {
   "cell_type": "markdown",
   "metadata": {},
   "source": [
    "What are the potential outliers, and what might be the reasons for extreme temperature changes in those areas?"
   ]
  },
  {
   "cell_type": "code",
   "execution_count": 60,
   "metadata": {},
   "outputs": [],
   "source": [
    "# Focus on the last decade\n",
    "columns_last_decade = ['F2013', 'F2014', 'F2015', 'F2016', 'F2017', 'F2018', 'F2019', 'F2020', 'F2021', 'F2022']\n",
    "singapore_airlines_reviews_df['Avg_Temp_Change_Last_Decade'] = singapore_airlines_reviews_df[columns_last_decade].mean(axis=1)\n",
    "\n",
    "# Calculate IQR\n",
    "Q1 = singapore_airlines_reviews_df['Avg_Temp_Change_Last_Decade'].quantile(0.25)\n",
    "Q3 = singapore_airlines_reviews_df['Avg_Temp_Change_Last_Decade'].quantile(0.75)\n",
    "IQR = Q3 - Q1\n",
    "\n",
    "# Define outliers\n",
    "outliers = singapore_airlines_reviews_df[(singapore_airlines_reviews_df['Avg_Temp_Change_Last_Decade'] < (Q1 - 1.5 * IQR)) | (singapore_airlines_reviews_df['Avg_Temp_Change_Last_Decade'] > (Q3 + 1.5 * IQR))]\n"
   ]
  },
  {
   "cell_type": "code",
   "execution_count": 61,
   "metadata": {},
   "outputs": [
    {
     "name": "stdout",
     "output_type": "stream",
     "text": [
      "Empty DataFrame\n",
      "Columns: [Country, Avg_Temp_Change_Last_Decade]\n",
      "Index: []\n"
     ]
    }
   ],
   "source": [
    "# Display outliers\n",
    "print(outliers[['Country', 'Avg_Temp_Change_Last_Decade']])\n"
   ]
  },
  {
   "cell_type": "code",
   "execution_count": 65,
   "metadata": {},
   "outputs": [
    {
     "data": {
      "image/png": "[encoded data removed]",
      "text/plain": [
       "<Figure size 1000x600 with 1 Axes>"
      ]
     },
     "metadata": {},
     "output_type": "display_data"
    }
   ],
   "source": [
    "# Box plot of average temperature change in the last decade\n",
    "plt.figure(figsize=(10, 6))\n",
    "plt.boxplot(singapore_airlines_reviews_df['Avg_Temp_Change_Last_Decade'], vert=False)\n",
    "plt.title('Box Plot of Average Temperature Change in the Last Decade')\n",
    "plt.xlabel('Average Temperature Change (°C)')\n",
    "plt.show()\n"
   ]
  },
  {
   "cell_type": "code",
   "execution_count": null,
   "metadata": {},
   "outputs": [],
   "source": []
  },
  {
   "cell_type": "code",
   "execution_count": null,
   "metadata": {},
   "outputs": [],
   "source": []
  },
  {
   "cell_type": "code",
   "execution_count": null,
   "metadata": {},
   "outputs": [],
   "source": []
  },
  {
   "cell_type": "code",
   "execution_count": null,
   "metadata": {},
   "outputs": [],
   "source": []
  },
  {
   "cell_type": "code",
   "execution_count": null,
   "metadata": {},
   "outputs": [],
   "source": []
  },
  {
   "cell_type": "code",
   "execution_count": null,
   "metadata": {},
   "outputs": [],
   "source": []
  },
  {
   "cell_type": "code",
   "execution_count": null,
   "metadata": {},
   "outputs": [],
   "source": []
  },
  {
   "cell_type": "code",
   "execution_count": null,
   "metadata": {},
   "outputs": [],
   "source": []
  },
  {
   "cell_type": "code",
   "execution_count": null,
   "metadata": {},
   "outputs": [],
   "source": []
  },
  {
   "cell_type": "code",
   "execution_count": null,
   "metadata": {},
   "outputs": [],
   "source": []
  },
  {
   "cell_type": "code",
   "execution_count": null,
   "metadata": {},
   "outputs": [],
   "source": []
  },
  {
   "cell_type": "code",
   "execution_count": null,
   "metadata": {},
   "outputs": [],
   "source": []
  },
  {
   "cell_type": "code",
   "execution_count": null,
   "metadata": {},
   "outputs": [],
   "source": []
  },
  {
   "cell_type": "code",
   "execution_count": null,
   "metadata": {},
   "outputs": [],
   "source": []
  },
  {
   "cell_type": "code",
   "execution_count": null,
   "metadata": {},
   "outputs": [],
   "source": []
  },
  {
   "cell_type": "code",
   "execution_count": null,
   "metadata": {},
   "outputs": [],
   "source": []
  },
  {
   "cell_type": "code",
   "execution_count": null,
   "metadata": {},
   "outputs": [],
   "source": []
  },
  {
   "cell_type": "code",
   "execution_count": null,
   "metadata": {},
   "outputs": [],
   "source": []
  },
  {
   "cell_type": "code",
   "execution_count": null,
   "metadata": {},
   "outputs": [],
   "source": []
  },
  {
   "cell_type": "code",
   "execution_count": null,
   "metadata": {},
   "outputs": [],
   "source": []
  },
  {
   "cell_type": "code",
   "execution_count": null,
   "metadata": {},
   "outputs": [],
   "source": []
  },
  {
   "cell_type": "code",
   "execution_count": null,
   "metadata": {},
   "outputs": [],
   "source": []
  },
  {
   "cell_type": "code",
   "execution_count": null,
   "metadata": {},
   "outputs": [],
   "source": []
  },
  {
   "cell_type": "code",
   "execution_count": null,
   "metadata": {},
   "outputs": [],
   "source": []
  },
  {
   "cell_type": "code",
   "execution_count": null,
   "metadata": {},
   "outputs": [],
   "source": []
  }
 ],
 "metadata": {
  "kernelspec": {
   "display_name": "Python 3",
   "language": "python",
   "name": "python3"
  },
  "language_info": {
   "codemirror_mode": {
    "name": "ipython",
    "version": 3
   },
   "file_extension": ".py",
   "mimetype": "text/x-python",
   "name": "python",
   "nbconvert_exporter": "python",
   "pygments_lexer": "ipython3",
   "version": "3.12.1"
  }
 },
 "nbformat": 4,
 "nbformat_minor": 2
}
